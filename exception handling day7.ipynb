{
 "cells": [
  {
   "cell_type": "markdown",
   "metadata": {},
   "source": [
    "<h3>  DAY 6 : GITHUB AND GIT CLASS </h3>"
   ]
  },
  {
   "cell_type": "code",
   "execution_count": null,
   "metadata": {},
   "outputs": [
    {
     "name": "stdout",
     "output_type": "stream",
     "text": [
      "hello world\n"
     ]
    }
   ],
   "source": [
    "print('hello world')"
   ]
  },
  {
   "cell_type": "code",
   "execution_count": null,
   "metadata": {},
   "outputs": [],
   "source": [
    "from manager import assistant"
   ]
  },
  {
   "cell_type": "code",
   "execution_count": null,
   "metadata": {},
   "outputs": [
    {
     "data": {
      "text/plain": [
       "'manshi'"
      ]
     },
     "execution_count": 3,
     "metadata": {},
     "output_type": "execute_result"
    }
   ],
   "source": [
    "assistant"
   ]
  },
  {
   "cell_type": "markdown",
   "metadata": {},
   "source": [
    "<h3> This jupyter notebook is also used for making note during coding. </h3>\n",
    "<p>We can write code as well as notes in this that's why it is known as ipynb interactive python notebook </p>"
   ]
  },
  {
   "cell_type": "code",
   "execution_count": 10,
   "metadata": {},
   "outputs": [
    {
     "name": "stdout",
     "output_type": "stream",
     "text": [
      "hii this is ram and i am 20 year old.\n",
      "error is not occured this block run when error not occured\n",
      "hii i am always execute at both time during error ocurred or not occured\n",
      "this is important line 1\n",
      "this is important line 2\n",
      "this is important line 3\n",
      "this is important line 4\n",
      "this is important line 5\n"
     ]
    }
   ],
   "source": [
    "try:\n",
    "    name = input(\"enter name : \")\n",
    "    age = int(input( \" plz enter your age\"))\n",
    "    print(f\"hii this is {name} and i am {age} year old.\")\n",
    "\n",
    "except:\n",
    "    print(\"error is occured , dont stop prgrm execution ! this block run when error is occured\")\n",
    "else:\n",
    "    print(\"error is not occured this block run when error not occured\" )\n",
    "finally:\n",
    "    print(\"hii i am always execute at both time during error ocurred or not occured\")   \n",
    "print(\"this is important line 1\")\n",
    "print(\"this is important line 2\")\n",
    "print(\"this is important line 3\")\n",
    "print(\"this is important line 4\")\n",
    "print(\"this is important line 5\")\n"
   ]
  },
  {
   "cell_type": "code",
   "execution_count": 11,
   "metadata": {},
   "outputs": [
    {
     "ename": "IndexError",
     "evalue": "list index out of range",
     "output_type": "error",
     "traceback": [
      "\u001b[1;31m---------------------------------------------------------------------------\u001b[0m",
      "\u001b[1;31mIndexError\u001b[0m                                Traceback (most recent call last)",
      "Cell \u001b[1;32mIn[11], line 2\u001b[0m\n\u001b[0;32m      1\u001b[0m ls \u001b[38;5;241m=\u001b[39m [\u001b[38;5;241m10\u001b[39m,\u001b[38;5;241m30\u001b[39m,\u001b[38;5;241m40\u001b[39m,\u001b[38;5;241m45\u001b[39m,\u001b[38;5;241m56\u001b[39m]\n\u001b[1;32m----> 2\u001b[0m \u001b[38;5;28mprint\u001b[39m(\u001b[43mls\u001b[49m\u001b[43m[\u001b[49m\u001b[38;5;241;43m6\u001b[39;49m\u001b[43m]\u001b[49m)\n",
      "\u001b[1;31mIndexError\u001b[0m: list index out of range"
     ]
    }
   ],
   "source": [
    "ls = [10,30,40,45,56]\n",
    "print(ls[6])\n"
   ]
  },
  {
   "cell_type": "markdown",
   "metadata": {},
   "source": [
    "<h2> ASSIGNEMENT : Explain types of error. </h2>\n",
    "<h4> 1. heading of error. </h4>\n",
    "<h4> 2. description of this error. </h4>\n",
    "<h4> 3. create code which contain given error type. </h4>\n",
    "\n"
   ]
  },
  {
   "cell_type": "code",
   "execution_count": null,
   "metadata": {},
   "outputs": [],
   "source": []
  },
  {
   "cell_type": "code",
   "execution_count": null,
   "metadata": {},
   "outputs": [],
   "source": []
  },
  {
   "cell_type": "code",
   "execution_count": null,
   "metadata": {},
   "outputs": [],
   "source": []
  },
  {
   "cell_type": "code",
   "execution_count": null,
   "metadata": {},
   "outputs": [],
   "source": []
  },
  {
   "cell_type": "code",
   "execution_count": null,
   "metadata": {},
   "outputs": [],
   "source": []
  },
  {
   "cell_type": "code",
   "execution_count": null,
   "metadata": {},
   "outputs": [],
   "source": []
  }
 ],
 "metadata": {
  "kernelspec": {
   "display_name": "Python 3",
   "language": "python",
   "name": "python3"
  },
  "language_info": {
   "codemirror_mode": {
    "name": "ipython",
    "version": 3
   },
   "file_extension": ".py",
   "mimetype": "text/x-python",
   "name": "python",
   "nbconvert_exporter": "python",
   "pygments_lexer": "ipython3",
   "version": "3.12.2"
  }
 },
 "nbformat": 4,
 "nbformat_minor": 2
}
