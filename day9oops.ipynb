{
 "cells": [
  {
   "cell_type": "markdown",
   "metadata": {},
   "source": [
    "--------------------------- OOPS CONCEPT -------------------------------       \n",
    "                        \n"
   ]
  },
  {
   "cell_type": "markdown",
   "metadata": {},
   "source": [
    " 1.. class ka naam ka first letter capital rkhna . <br>\n",
    "2.. object class ke bahar nikal ke bnana h .<br>\n",
    "3.. class variable or class properties ko access krne ke liye do method h first is classname .class variable and 2nd is by creating object outside class then access it by obj.class variable.<br>\n",
    "4.. But we use object method in oops and it is the best approach. <br>\n",
    "5... To make instance or object variable we used constructor .\n",
    "6... class name  ki help se instance variable access nhi hote h only access the class variable .\n",
    "7.. object se aap class and instance variable dono ko access kr skte h "
   ]
  },
  {
   "cell_type": "code",
   "execution_count": 6,
   "metadata": {},
   "outputs": [],
   "source": [
    "class Student:\n",
    "    # class properties \n",
    "    student_name=\"ram\"              # these are 3 class variables\n",
    "    student_college=\"arya\"\n",
    "    college_city=\"jaipur\"\n",
    "\n",
    "obj=Student()             #  create object of class obj is object of student class\n"
   ]
  },
  {
   "cell_type": "markdown",
   "metadata": {},
   "source": [
    "------------------------------OBJECT-----------------------------------------<BR>\n",
    "1......ek class ke kitne bhi object bna skte h b/c class copy de deti h class properties ki."
   ]
  },
  {
   "cell_type": "code",
   "execution_count": 3,
   "metadata": {},
   "outputs": [
    {
     "ename": "NameError",
     "evalue": "name 'student_name' is not defined",
     "output_type": "error",
     "traceback": [
      "\u001b[1;31m---------------------------------------------------------------------------\u001b[0m",
      "\u001b[1;31mNameError\u001b[0m                                 Traceback (most recent call last)",
      "Cell \u001b[1;32mIn[3], line 1\u001b[0m\n\u001b[1;32m----> 1\u001b[0m \u001b[38;5;28mprint\u001b[39m(\u001b[43mstudent_name\u001b[49m)\n",
      "\u001b[1;31mNameError\u001b[0m: name 'student_name' is not defined"
     ]
    }
   ],
   "source": [
    "print(student_name) # kuch bhi class me se access krna h to we will need an object.\n"
   ]
  },
  {
   "cell_type": "code",
   "execution_count": 8,
   "metadata": {},
   "outputs": [
    {
     "name": "stdout",
     "output_type": "stream",
     "text": [
      "ram\n",
      "arya\n",
      "jaipur\n"
     ]
    }
   ],
   "source": [
    "print(obj.student_name)         # access  class variable student name by object obj\n",
    "print(obj.student_college)\n",
    "print(obj.college_city)\n",
    "\n"
   ]
  },
  {
   "cell_type": "code",
   "execution_count": 9,
   "metadata": {},
   "outputs": [
    {
     "name": "stdout",
     "output_type": "stream",
     "text": [
      "ram\n"
     ]
    }
   ],
   "source": [
    "Student.student_name         # access class variable by class name.\n",
    "print(Student.student_name )"
   ]
  },
  {
   "cell_type": "markdown",
   "metadata": {},
   "source": [
    "-----------------------CONSTRUCTOR-------------------------------\n",
    "<br>\n",
    "1.... constructor is used to initialize the object variable .\n",
    "2.... it is a special type function due to  auto call.\n",
    "3.... constructor ka naam hmesa __init__(self) rehne wala h\n",
    "4.... cont. ko hum kbi call nhi krte h ye autocall hota h during object creation .\n",
    "5.... jitni object bnayengey utni baar call hoga.\n",
    "6.... ye class ke andr he bnta h ."
   ]
  },
  {
   "cell_type": "code",
   "execution_count": 14,
   "metadata": {},
   "outputs": [],
   "source": [
    "class Sir:\n",
    "    # class variable\n",
    "    sir_name=\"raman\"\n",
    "    sir_college=\"poornima\"\n",
    "# instance variable\n",
    "    def __init__(self):\n",
    "        self.sir_address=\"agra\"            # constructor used to create object variable\n",
    "        self.sir_id=\"as234\"                  # these are 2 instance variable \n",
    "        print(\"constructor executed\")"
   ]
  },
  {
   "cell_type": "code",
   "execution_count": 12,
   "metadata": {},
   "outputs": [
    {
     "name": "stdout",
     "output_type": "stream",
     "text": [
      "raman\n"
     ]
    }
   ],
   "source": [
    "print(Sir.sir_name)\n"
   ]
  },
  {
   "cell_type": "code",
   "execution_count": 13,
   "metadata": {},
   "outputs": [
    {
     "ename": "AttributeError",
     "evalue": "type object 'Sir' has no attribute 'sir_id'",
     "output_type": "error",
     "traceback": [
      "\u001b[1;31m---------------------------------------------------------------------------\u001b[0m",
      "\u001b[1;31mAttributeError\u001b[0m                            Traceback (most recent call last)",
      "Cell \u001b[1;32mIn[13], line 1\u001b[0m\n\u001b[1;32m----> 1\u001b[0m \u001b[38;5;28mprint\u001b[39m(\u001b[43mSir\u001b[49m\u001b[38;5;241;43m.\u001b[39;49m\u001b[43msir_id\u001b[49m)\n",
      "\u001b[1;31mAttributeError\u001b[0m: type object 'Sir' has no attribute 'sir_id'"
     ]
    }
   ],
   "source": [
    "print(Sir.sir_id)                "
   ]
  },
  {
   "cell_type": "code",
   "execution_count": 16,
   "metadata": {},
   "outputs": [
    {
     "name": "stdout",
     "output_type": "stream",
     "text": [
      "constructor executed\n",
      "constructor executed\n"
     ]
    }
   ],
   "source": [
    "obj1 = Sir() \n",
    "obj2 = Sir()             # object bnate he cont. auto call ho gya"
   ]
  },
  {
   "cell_type": "code",
   "execution_count": 17,
   "metadata": {},
   "outputs": [
    {
     "data": {
      "text/plain": [
       "'raman'"
      ]
     },
     "execution_count": 17,
     "metadata": {},
     "output_type": "execute_result"
    }
   ],
   "source": [
    "obj1.sir_name"
   ]
  },
  {
   "cell_type": "code",
   "execution_count": 18,
   "metadata": {},
   "outputs": [
    {
     "data": {
      "text/plain": [
       "'agra'"
      ]
     },
     "execution_count": 18,
     "metadata": {},
     "output_type": "execute_result"
    }
   ],
   "source": [
    "obj1.sir_address"
   ]
  },
  {
   "cell_type": "code",
   "execution_count": 20,
   "metadata": {},
   "outputs": [],
   "source": [
    "class Sir:\n",
    "    # class variable\n",
    "    sir_name=\"raman\"\n",
    "    sir_college=\"poornima\"\n",
    "# instance variable\n",
    "    def __init__(self, address,id):\n",
    "        self.sir_address= address         # constructor used to create object variable\n",
    "        self.sir_id= id                # these are 2 instance variable \n",
    "        print(\"constructor executed\")"
   ]
  },
  {
   "cell_type": "code",
   "execution_count": 22,
   "metadata": {},
   "outputs": [
    {
     "name": "stdout",
     "output_type": "stream",
     "text": [
      "constructor executed\n",
      "constructor executed\n"
     ]
    }
   ],
   "source": [
    "obj3=Sir(address=\"agra\",id=\"4ds576\")                   # object apne according variable m data le skta h .\n",
    "obj4=Sir(address=\"mathura\",id=43456)"
   ]
  },
  {
   "cell_type": "code",
   "execution_count": 23,
   "metadata": {},
   "outputs": [
    {
     "data": {
      "text/plain": [
       "'4ds576'"
      ]
     },
     "execution_count": 23,
     "metadata": {},
     "output_type": "execute_result"
    }
   ],
   "source": [
    "obj3.sir_id"
   ]
  },
  {
   "cell_type": "code",
   "execution_count": 24,
   "metadata": {},
   "outputs": [
    {
     "data": {
      "text/plain": [
       "43456"
      ]
     },
     "execution_count": 24,
     "metadata": {},
     "output_type": "execute_result"
    }
   ],
   "source": [
    "obj4.sir_id"
   ]
  },
  {
   "cell_type": "code",
   "execution_count": 36,
   "metadata": {},
   "outputs": [
    {
     "name": "stdout",
     "output_type": "stream",
     "text": [
      "constructor executed\n",
      "constructor executed\n"
     ]
    }
   ],
   "source": [
    "class Student:\n",
    "    # class variable\n",
    "    student_name=\"raman\"\n",
    "    student_college=\"poornima\"\n",
    "# instance variable\n",
    "    def __init__(self, address,id, marks_ls):\n",
    "        self.student_address= address         # constructor used to create object variable\n",
    "        self.student_id= id \n",
    "        self.student_marks= marks_ls               # these are 2 instance variable \n",
    "        print(\"constructor executed\")\n",
    "\n",
    "        # function = method in oops \n",
    "        \n",
    "    def marks_average_finder(self):              # self keyword reference to object ,it is like a pointer.\n",
    "        marks= self.student_marks                        # self keyword apke class ke andr used hota h to access value of instance variable.\n",
    "        total_sum=0\n",
    "        count=0\n",
    "        for mark in marks:\n",
    "            total_sum+=mark\n",
    "            count=count+1\n",
    "        print(\"Your average marks is :\", total_sum/count)\n",
    "\n",
    "manshi = Student(address=\"agra\",id=10,marks_ls=[20,30,40,50])           #  2 object of class create\n",
    "sachin = Student(address=\"up\",id=12,marks_ls=[29,39,49,59])\n"
   ]
  },
  {
   "cell_type": "markdown",
   "metadata": {},
   "source": [
    "------------------------------METHOD----------------------------------<BR>\n",
    "1..... function ko method kehtey h in oops.\n",
    "2....abstract ,instance,static,class method ."
   ]
  },
  {
   "cell_type": "code",
   "execution_count": 38,
   "metadata": {},
   "outputs": [
    {
     "name": "stdout",
     "output_type": "stream",
     "text": [
      "Your average marks is : 35.0\n",
      "Your average marks is : 44.0\n"
     ]
    }
   ],
   "source": [
    "manshi.marks_average_finder()\n",
    "sachin.marks_average_finder()"
   ]
  },
  {
   "cell_type": "code",
   "execution_count": 28,
   "metadata": {},
   "outputs": [
    {
     "data": {
      "text/plain": [
       "[29, 39, 49, 59]"
      ]
     },
     "execution_count": 28,
     "metadata": {},
     "output_type": "execute_result"
    }
   ],
   "source": [
    "sachin.student_marks"
   ]
  },
  {
   "cell_type": "code",
   "execution_count": 29,
   "metadata": {},
   "outputs": [
    {
     "data": {
      "text/plain": [
       "[20, 30, 40, 50]"
      ]
     },
     "execution_count": 29,
     "metadata": {},
     "output_type": "execute_result"
    }
   ],
   "source": [
    "manshi.student_marks"
   ]
  },
  {
   "cell_type": "code",
   "execution_count": 70,
   "metadata": {},
   "outputs": [],
   "source": [
    "class Practice:\n",
    "    def __init__(self):\n",
    "        self.random_number = [25,41,63,9,58,75,95,45,68,25,3,4,61,2]\n",
    "    def target_finder(target):\n",
    "        if target in range(14):\n",
    "            target==95\n",
    "            print(\"It is present in list.\")\n",
    "        else:\n",
    "            print(\"Target not in random number list.\")\n",
    "\n",
    "\n",
    "obj=Practice()\n",
    "\n",
    "\n"
   ]
  },
  {
   "cell_type": "code",
   "execution_count": 52,
   "metadata": {},
   "outputs": [
    {
     "data": {
      "text/plain": [
       "[25, 41, 63, 9, 58, 75, 95, 45, 68, 25, 3, 4, 61, 2]"
      ]
     },
     "execution_count": 52,
     "metadata": {},
     "output_type": "execute_result"
    }
   ],
   "source": [
    "obj.random_number"
   ]
  },
  {
   "cell_type": "code",
   "execution_count": 71,
   "metadata": {},
   "outputs": [
    {
     "name": "stdout",
     "output_type": "stream",
     "text": [
      "Target not in random number list.\n"
     ]
    }
   ],
   "source": [
    "obj.target_finder()"
   ]
  },
  {
   "cell_type": "code",
   "execution_count": null,
   "metadata": {},
   "outputs": [],
   "source": []
  },
  {
   "cell_type": "code",
   "execution_count": null,
   "metadata": {},
   "outputs": [],
   "source": []
  }
 ],
 "metadata": {
  "kernelspec": {
   "display_name": "Python 3",
   "language": "python",
   "name": "python3"
  },
  "language_info": {
   "codemirror_mode": {
    "name": "ipython",
    "version": 3
   },
   "file_extension": ".py",
   "mimetype": "text/x-python",
   "name": "python",
   "nbconvert_exporter": "python",
   "pygments_lexer": "ipython3",
   "version": "3.12.2"
  }
 },
 "nbformat": 4,
 "nbformat_minor": 2
}
