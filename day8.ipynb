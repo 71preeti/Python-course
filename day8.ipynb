{
 "cells": [
  {
   "cell_type": "markdown",
   "metadata": {},
   "source": [
    "<h5> FILE HANDLING : <hr> </h5>\n",
    "<P>  How reading and writing operation perform in file </p>\n",
    "<p> open( file_name or file address ,mode) syntax of open . Used to open a file in different mode.<br> To create a file we used write mode and append mode. <br>\n",
    "write mode  pehle past data ko delete krta h then new data ko write krta h. <br> if file not present then write mode create new file. <br> to reserve past data, write new data and create a file if file not present then we used append mode <br> open file m by default read mode m open hota h . \n",
    "<br> agr hum pehle se he exist file ko open krte h to file exist error aayegi through x mode. <br> x mode only used to create file only but today it is not used .<br>\n",
    " </p>\n",
    "<p> mode : r,w,a,x,b </p>\n"
   ]
  },
  {
   "cell_type": "code",
   "execution_count": 42,
   "metadata": {},
   "outputs": [
    {
     "data": {
      "text/plain": [
       "'file=open(\\'demo.txt\\',\\'w\\')\\nmessage = \"\"\" Hello! \\nI am very excited to create file and learning file handling\"\"\"\\nfile.write(message)\\nfile.close()'"
      ]
     },
     "execution_count": 42,
     "metadata": {},
     "output_type": "execute_result"
    }
   ],
   "source": [
    "'''file=open('demo.txt','w')\n",
    "message = \"\"\" Hello! \n",
    "I am very excited to create file and learning file handling\"\"\"\n",
    "file.write(message)\n",
    "file.close()'''\n",
    "\n",
    "\n",
    "\n"
   ]
  },
  {
   "cell_type": "code",
   "execution_count": 43,
   "metadata": {},
   "outputs": [],
   "source": [
    "file=open('demo.txt','a')\n",
    "message = \"\"\" Hello! \n",
    "I am very excited to create file and learning file handling\"\"\"\n",
    "file.write(message)\n",
    "file.close()"
   ]
  },
  {
   "cell_type": "markdown",
   "metadata": {},
   "source": [
    "<p> python ke andr do path hote h : <hr> <br> 1. absolute path means pura address of file <br> 2. relative path jb use krte h jb humari operation wali file or hum jis pe code kr rhe h dono file agr ek he folder m ho to like demo.txt\n",
    "<br> file open by default read mode m open  hota h</p>"
   ]
  },
  {
   "cell_type": "code",
   "execution_count": 44,
   "metadata": {},
   "outputs": [],
   "source": [
    "file=open('demo.txt','r')\n",
    "file.close()\n",
    " "
   ]
  },
  {
   "cell_type": "code",
   "execution_count": 45,
   "metadata": {},
   "outputs": [
    {
     "name": "stdout",
     "output_type": "stream",
     "text": [
      "file exist.\n"
     ]
    }
   ],
   "source": [
    "\n",
    "try:\n",
    "    file=open('demo2.txt','r')\n",
    "    file.close()\n",
    "except:\n",
    "    print(\"file not exist .\")\n",
    "else:\n",
    "    print(\"file exist.\")"
   ]
  },
  {
   "cell_type": "code",
   "execution_count": 46,
   "metadata": {},
   "outputs": [
    {
     "name": "stdout",
     "output_type": "stream",
     "text": [
      " Hello! \n",
      " Hello! \n",
      "I am very excited to create file and learning file handling Hello! \n",
      "I am very excited to create file and learning file handling Hello! \n",
      "I am very excited to create file and learning file handling Hello! \n",
      "I am very excited to create file and learning file handling Hello! \n",
      "I am very excited to create file and learning file handling\n"
     ]
    }
   ],
   "source": [
    "file=open('demo.txt','r')\n",
    "data=file.read()\n",
    "print(data)\n"
   ]
  },
  {
   "cell_type": "code",
   "execution_count": 47,
   "metadata": {},
   "outputs": [
    {
     "ename": "FileExistsError",
     "evalue": "[Errno 17] File exists: 'demo2.txt'",
     "output_type": "error",
     "traceback": [
      "\u001b[1;31m---------------------------------------------------------------------------\u001b[0m",
      "\u001b[1;31mFileExistsError\u001b[0m                           Traceback (most recent call last)",
      "Cell \u001b[1;32mIn[47], line 1\u001b[0m\n\u001b[1;32m----> 1\u001b[0m file\u001b[38;5;241m=\u001b[39m\u001b[38;5;28;43mopen\u001b[39;49m\u001b[43m(\u001b[49m\u001b[38;5;124;43m'\u001b[39;49m\u001b[38;5;124;43mdemo2.txt\u001b[39;49m\u001b[38;5;124;43m'\u001b[39;49m\u001b[43m,\u001b[49m\u001b[38;5;124;43m'\u001b[39;49m\u001b[38;5;124;43mx\u001b[39;49m\u001b[38;5;124;43m'\u001b[39;49m\u001b[43m)\u001b[49m\n\u001b[0;32m      2\u001b[0m file\u001b[38;5;241m.\u001b[39mclose()\n",
      "File \u001b[1;32m~\\AppData\\Roaming\\Python\\Python312\\site-packages\\IPython\\core\\interactiveshell.py:324\u001b[0m, in \u001b[0;36m_modified_open\u001b[1;34m(file, *args, **kwargs)\u001b[0m\n\u001b[0;32m    317\u001b[0m \u001b[38;5;28;01mif\u001b[39;00m file \u001b[38;5;129;01min\u001b[39;00m {\u001b[38;5;241m0\u001b[39m, \u001b[38;5;241m1\u001b[39m, \u001b[38;5;241m2\u001b[39m}:\n\u001b[0;32m    318\u001b[0m     \u001b[38;5;28;01mraise\u001b[39;00m \u001b[38;5;167;01mValueError\u001b[39;00m(\n\u001b[0;32m    319\u001b[0m         \u001b[38;5;124mf\u001b[39m\u001b[38;5;124m\"\u001b[39m\u001b[38;5;124mIPython won\u001b[39m\u001b[38;5;124m'\u001b[39m\u001b[38;5;124mt let you open fd=\u001b[39m\u001b[38;5;132;01m{\u001b[39;00mfile\u001b[38;5;132;01m}\u001b[39;00m\u001b[38;5;124m by default \u001b[39m\u001b[38;5;124m\"\u001b[39m\n\u001b[0;32m    320\u001b[0m         \u001b[38;5;124m\"\u001b[39m\u001b[38;5;124mas it is likely to crash IPython. If you know what you are doing, \u001b[39m\u001b[38;5;124m\"\u001b[39m\n\u001b[0;32m    321\u001b[0m         \u001b[38;5;124m\"\u001b[39m\u001b[38;5;124myou can use builtins\u001b[39m\u001b[38;5;124m'\u001b[39m\u001b[38;5;124m open.\u001b[39m\u001b[38;5;124m\"\u001b[39m\n\u001b[0;32m    322\u001b[0m     )\n\u001b[1;32m--> 324\u001b[0m \u001b[38;5;28;01mreturn\u001b[39;00m \u001b[43mio_open\u001b[49m\u001b[43m(\u001b[49m\u001b[43mfile\u001b[49m\u001b[43m,\u001b[49m\u001b[43m \u001b[49m\u001b[38;5;241;43m*\u001b[39;49m\u001b[43margs\u001b[49m\u001b[43m,\u001b[49m\u001b[43m \u001b[49m\u001b[38;5;241;43m*\u001b[39;49m\u001b[38;5;241;43m*\u001b[39;49m\u001b[43mkwargs\u001b[49m\u001b[43m)\u001b[49m\n",
      "\u001b[1;31mFileExistsError\u001b[0m: [Errno 17] File exists: 'demo2.txt'"
     ]
    }
   ],
   "source": [
    "file=open('demo2.txt','x')\n",
    "file.close()"
   ]
  },
  {
   "cell_type": "code",
   "execution_count": null,
   "metadata": {},
   "outputs": [
    {
     "name": "stdout",
     "output_type": "stream",
     "text": [
      " Hello! \n",
      "\n"
     ]
    }
   ],
   "source": [
    "# Best approach syntax because 1st method se hume bar bar file close krni pd rhi thi.\n",
    "with open('demo.txt') as file:\n",
    "    content = file.read()\n",
    "    print(content)"
   ]
  },
  {
   "cell_type": "markdown",
   "metadata": {},
   "source": [
    "<h5> Important !!!!! </h5> <hr>\n",
    "<p> syntax for file handling in project best approach is : <br> with open('demo.txt') as file:\n",
    "    <br> ....content = file.read()\n",
    "      <br>.... print(content)\n",
    "      </p>"
   ]
  },
  {
   "cell_type": "code",
   "execution_count": null,
   "metadata": {},
   "outputs": [
    {
     "ename": "ValueError",
     "evalue": "invalid literal for int() with base 10: 'eighty'",
     "output_type": "error",
     "traceback": [
      "\u001b[1;31m---------------------------------------------------------------------------\u001b[0m",
      "\u001b[1;31mValueError\u001b[0m                                Traceback (most recent call last)",
      "Cell \u001b[1;32mIn[37], line 1\u001b[0m\n\u001b[1;32m----> 1\u001b[0m num1\u001b[38;5;241m=\u001b[39m\u001b[38;5;28;43mint\u001b[39;49m\u001b[43m(\u001b[49m\u001b[38;5;28;43minput\u001b[39;49m\u001b[43m(\u001b[49m\u001b[38;5;124;43m\"\u001b[39;49m\u001b[38;5;124;43menter first no.\u001b[39;49m\u001b[38;5;124;43m\"\u001b[39;49m\u001b[43m)\u001b[49m\u001b[43m)\u001b[49m\n\u001b[0;32m      2\u001b[0m num2\u001b[38;5;241m=\u001b[39m\u001b[38;5;28mint\u001b[39m(\u001b[38;5;28minput\u001b[39m(\u001b[38;5;124m\"\u001b[39m\u001b[38;5;124menter first no.\u001b[39m\u001b[38;5;124m\"\u001b[39m))\n\u001b[0;32m      3\u001b[0m output\u001b[38;5;241m=\u001b[39mnum1 \u001b[38;5;241m/\u001b[39m num2\n",
      "\u001b[1;31mValueError\u001b[0m: invalid literal for int() with base 10: 'eighty'"
     ]
    }
   ],
   "source": [
    "num1=int(input(\"enter first no.\"))\n",
    "num2=int(input(\"enter first no.\"))\n",
    "output=num1 / num2\n",
    "print(\"This is your output:\", output)\n"
   ]
  },
  {
   "cell_type": "markdown",
   "metadata": {},
   "source": [
    "<h4> HOW TO HANDLE EXCEPTION : <HR> \n",
    "<H4>\n",
    "<P> USING except ValueEror:</P>"
   ]
  },
  {
   "cell_type": "code",
   "execution_count": null,
   "metadata": {},
   "outputs": [
    {
     "name": "stdout",
     "output_type": "stream",
     "text": [
      "This is your output: 0.0\n"
     ]
    }
   ],
   "source": [
    "try:\n",
    "    num1=int(input(\"enter first no.\"))\n",
    "    num2=int(input(\"enter first no.\"))\n",
    "    output=num1 / num2\n",
    "    print(\"This is your output:\", output)\n",
    "except ValueError :\n",
    "    print(\"enter a valid input \")\n",
    "except ZeroDivisionError:\n",
    "    print(\"please dont assign zero to num2\")"
   ]
  },
  {
   "cell_type": "markdown",
   "metadata": {},
   "source": [
    "<H4> OOPS CONCEPT:  <HR> </H4>\n",
    "<P> everything is oriented on objects by two things object and class. class is a blueprint that contain property ,it define a way to write a code, ye btati h ki kha pe variable loop bnana h , it is ruled set for all <br> Object or instance are same , it is a only, like a person who access the property of class . </p>"
   ]
  }
 ],
 "metadata": {
  "kernelspec": {
   "display_name": "Python 3",
   "language": "python",
   "name": "python3"
  },
  "language_info": {
   "codemirror_mode": {
    "name": "ipython",
    "version": 3
   },
   "file_extension": ".py",
   "mimetype": "text/x-python",
   "name": "python",
   "nbconvert_exporter": "python",
   "pygments_lexer": "ipython3",
   "version": "3.12.2"
  }
 },
 "nbformat": 4,
 "nbformat_minor": 2
}
